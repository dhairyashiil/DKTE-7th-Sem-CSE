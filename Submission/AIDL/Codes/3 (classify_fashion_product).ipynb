{
  "nbformat": 4,
  "nbformat_minor": 0,
  "metadata": {
    "colab": {
      "provenance": [],
      "collapsed_sections": []
    },
    "kernelspec": {
      "name": "python3",
      "display_name": "Python 3"
    },
    "language_info": {
      "name": "python"
    }
  },
  "cells": [
    {
      "cell_type": "code",
      "execution_count": 1,
      "metadata": {
        "id": "mW9WVTSjmMyT"
      },
      "outputs": [],
      "source": [
        "import tensorflow as tf\n",
        "import matplotlib.pyplot as plt"
      ]
    },
    {
      "cell_type": "code",
      "source": [
        "from tensorflow.keras.datasets import fashion_mnist\n",
        "(x_train,y_train),(x_test,y_test)=fashion_mnist.load_data()"
      ],
      "metadata": {
        "colab": {
          "base_uri": "https://localhost:8080/"
        },
        "id": "PEklba-Omwct",
        "outputId": "18003a62-a7f6-4ff8-b688-91a578c219bf"
      },
      "execution_count": 4,
      "outputs": [
        {
          "output_type": "stream",
          "name": "stdout",
          "text": [
            "Downloading data from https://storage.googleapis.com/tensorflow/tf-keras-datasets/train-labels-idx1-ubyte.gz\n",
            "29515/29515 [==============================] - 0s 0us/step\n",
            "Downloading data from https://storage.googleapis.com/tensorflow/tf-keras-datasets/train-images-idx3-ubyte.gz\n",
            "26421880/26421880 [==============================] - 0s 0us/step\n",
            "Downloading data from https://storage.googleapis.com/tensorflow/tf-keras-datasets/t10k-labels-idx1-ubyte.gz\n",
            "5148/5148 [==============================] - 0s 0us/step\n",
            "Downloading data from https://storage.googleapis.com/tensorflow/tf-keras-datasets/t10k-images-idx3-ubyte.gz\n",
            "4422102/4422102 [==============================] - 0s 0us/step\n"
          ]
        }
      ]
    },
    {
      "cell_type": "code",
      "source": [
        "print(x_train.shape)\n",
        "print(y_train.shape)"
      ],
      "metadata": {
        "colab": {
          "base_uri": "https://localhost:8080/"
        },
        "id": "dTc5LNgSp9AI",
        "outputId": "8aa77f9e-2b4c-4332-efc0-19fcf74e3fd9"
      },
      "execution_count": 5,
      "outputs": [
        {
          "output_type": "stream",
          "name": "stdout",
          "text": [
            "(60000, 28, 28)\n",
            "(60000,)\n"
          ]
        }
      ]
    },
    {
      "cell_type": "code",
      "source": [
        "print(x_test.shape)\n",
        "print(y_test.shape)"
      ],
      "metadata": {
        "colab": {
          "base_uri": "https://localhost:8080/"
        },
        "id": "YFsRR8yIqMVi",
        "outputId": "47fdc492-81d3-44cd-a77d-be86a3cd1b6d"
      },
      "execution_count": 6,
      "outputs": [
        {
          "output_type": "stream",
          "name": "stdout",
          "text": [
            "(10000, 28, 28)\n",
            "(10000,)\n"
          ]
        }
      ]
    },
    {
      "cell_type": "code",
      "source": [
        "print(x_train[0])"
      ],
      "metadata": {
        "colab": {
          "base_uri": "https://localhost:8080/"
        },
        "id": "09jwGJxoqdjO",
        "outputId": "7450db4c-1137-4966-f1e0-d32991f2bb04"
      },
      "execution_count": 7,
      "outputs": [
        {
          "output_type": "stream",
          "name": "stdout",
          "text": [
            "[[  0   0   0   0   0   0   0   0   0   0   0   0   0   0   0   0   0   0\n",
            "    0   0   0   0   0   0   0   0   0   0]\n",
            " [  0   0   0   0   0   0   0   0   0   0   0   0   0   0   0   0   0   0\n",
            "    0   0   0   0   0   0   0   0   0   0]\n",
            " [  0   0   0   0   0   0   0   0   0   0   0   0   0   0   0   0   0   0\n",
            "    0   0   0   0   0   0   0   0   0   0]\n",
            " [  0   0   0   0   0   0   0   0   0   0   0   0   1   0   0  13  73   0\n",
            "    0   1   4   0   0   0   0   1   1   0]\n",
            " [  0   0   0   0   0   0   0   0   0   0   0   0   3   0  36 136 127  62\n",
            "   54   0   0   0   1   3   4   0   0   3]\n",
            " [  0   0   0   0   0   0   0   0   0   0   0   0   6   0 102 204 176 134\n",
            "  144 123  23   0   0   0   0  12  10   0]\n",
            " [  0   0   0   0   0   0   0   0   0   0   0   0   0   0 155 236 207 178\n",
            "  107 156 161 109  64  23  77 130  72  15]\n",
            " [  0   0   0   0   0   0   0   0   0   0   0   1   0  69 207 223 218 216\n",
            "  216 163 127 121 122 146 141  88 172  66]\n",
            " [  0   0   0   0   0   0   0   0   0   1   1   1   0 200 232 232 233 229\n",
            "  223 223 215 213 164 127 123 196 229   0]\n",
            " [  0   0   0   0   0   0   0   0   0   0   0   0   0 183 225 216 223 228\n",
            "  235 227 224 222 224 221 223 245 173   0]\n",
            " [  0   0   0   0   0   0   0   0   0   0   0   0   0 193 228 218 213 198\n",
            "  180 212 210 211 213 223 220 243 202   0]\n",
            " [  0   0   0   0   0   0   0   0   0   1   3   0  12 219 220 212 218 192\n",
            "  169 227 208 218 224 212 226 197 209  52]\n",
            " [  0   0   0   0   0   0   0   0   0   0   6   0  99 244 222 220 218 203\n",
            "  198 221 215 213 222 220 245 119 167  56]\n",
            " [  0   0   0   0   0   0   0   0   0   4   0   0  55 236 228 230 228 240\n",
            "  232 213 218 223 234 217 217 209  92   0]\n",
            " [  0   0   1   4   6   7   2   0   0   0   0   0 237 226 217 223 222 219\n",
            "  222 221 216 223 229 215 218 255  77   0]\n",
            " [  0   3   0   0   0   0   0   0   0  62 145 204 228 207 213 221 218 208\n",
            "  211 218 224 223 219 215 224 244 159   0]\n",
            " [  0   0   0   0  18  44  82 107 189 228 220 222 217 226 200 205 211 230\n",
            "  224 234 176 188 250 248 233 238 215   0]\n",
            " [  0  57 187 208 224 221 224 208 204 214 208 209 200 159 245 193 206 223\n",
            "  255 255 221 234 221 211 220 232 246   0]\n",
            " [  3 202 228 224 221 211 211 214 205 205 205 220 240  80 150 255 229 221\n",
            "  188 154 191 210 204 209 222 228 225   0]\n",
            " [ 98 233 198 210 222 229 229 234 249 220 194 215 217 241  65  73 106 117\n",
            "  168 219 221 215 217 223 223 224 229  29]\n",
            " [ 75 204 212 204 193 205 211 225 216 185 197 206 198 213 240 195 227 245\n",
            "  239 223 218 212 209 222 220 221 230  67]\n",
            " [ 48 203 183 194 213 197 185 190 194 192 202 214 219 221 220 236 225 216\n",
            "  199 206 186 181 177 172 181 205 206 115]\n",
            " [  0 122 219 193 179 171 183 196 204 210 213 207 211 210 200 196 194 191\n",
            "  195 191 198 192 176 156 167 177 210  92]\n",
            " [  0   0  74 189 212 191 175 172 175 181 185 188 189 188 193 198 204 209\n",
            "  210 210 211 188 188 194 192 216 170   0]\n",
            " [  2   0   0   0  66 200 222 237 239 242 246 243 244 221 220 193 191 179\n",
            "  182 182 181 176 166 168  99  58   0   0]\n",
            " [  0   0   0   0   0   0   0  40  61  44  72  41  35   0   0   0   0   0\n",
            "    0   0   0   0   0   0   0   0   0   0]\n",
            " [  0   0   0   0   0   0   0   0   0   0   0   0   0   0   0   0   0   0\n",
            "    0   0   0   0   0   0   0   0   0   0]\n",
            " [  0   0   0   0   0   0   0   0   0   0   0   0   0   0   0   0   0   0\n",
            "    0   0   0   0   0   0   0   0   0   0]]\n"
          ]
        }
      ]
    },
    {
      "cell_type": "code",
      "source": [
        "plt.imshow(x_train[0])"
      ],
      "metadata": {
        "colab": {
          "base_uri": "https://localhost:8080/",
          "height": 282
        },
        "id": "Iw7WDEucqsuZ",
        "outputId": "92f1e7fb-dab4-4a09-ce6b-c8a11c0bf6b9"
      },
      "execution_count": 8,
      "outputs": [
        {
          "output_type": "execute_result",
          "data": {
            "text/plain": [
              "<matplotlib.image.AxesImage at 0x7f4a98186450>"
            ]
          },
          "metadata": {},
          "execution_count": 8
        },
        {
          "output_type": "display_data",
          "data": {
            "text/plain": [
              "<Figure size 432x288 with 1 Axes>"
            ],
            "image/png": "[encoded data removed]"
          },
          "metadata": {
            "needs_background": "light"
          }
        }
      ]
    },
    {
      "cell_type": "code",
      "source": [
        "print(y_train[0])"
      ],
      "metadata": {
        "colab": {
          "base_uri": "https://localhost:8080/"
        },
        "id": "cbFqM84uq1g4",
        "outputId": "e2d28666-2dd8-4128-d504-e1b0c8268118"
      },
      "execution_count": 9,
      "outputs": [
        {
          "output_type": "stream",
          "name": "stdout",
          "text": [
            "9\n"
          ]
        }
      ]
    },
    {
      "cell_type": "code",
      "source": [
        "set(y_train)"
      ],
      "metadata": {
        "colab": {
          "base_uri": "https://localhost:8080/"
        },
        "id": "kDQU0uIOq-ZP",
        "outputId": "fcc8322a-55e6-42bf-e5c3-fc676fe6f02e"
      },
      "execution_count": 10,
      "outputs": [
        {
          "output_type": "execute_result",
          "data": {
            "text/plain": [
              "{0, 1, 2, 3, 4, 5, 6, 7, 8, 9}"
            ]
          },
          "metadata": {},
          "execution_count": 10
        }
      ]
    },
    {
      "cell_type": "code",
      "source": [
        "x_train = x_train.astype(float) / 255.0\n",
        "x_test = x_test.astype(float) / 255.0"
      ],
      "metadata": {
        "id": "9cx0yUSCrEjX"
      },
      "execution_count": 11,
      "outputs": []
    },
    {
      "cell_type": "code",
      "source": [
        "from tensorflow.keras.utils import to_categorical\n",
        "y_train = to_categorical(y_train)\n",
        "y_test = to_categorical(y_test)"
      ],
      "metadata": {
        "id": "tgAawBkUran2"
      },
      "execution_count": 12,
      "outputs": []
    },
    {
      "cell_type": "code",
      "source": [
        "y_train[0]"
      ],
      "metadata": {
        "colab": {
          "base_uri": "https://localhost:8080/"
        },
        "id": "EVYvolGMr3M7",
        "outputId": "107cd609-931c-47c4-a8fd-dcd1af2da7e1"
      },
      "execution_count": 13,
      "outputs": [
        {
          "output_type": "execute_result",
          "data": {
            "text/plain": [
              "array([0., 0., 0., 0., 0., 0., 0., 0., 0., 1.], dtype=float32)"
            ]
          },
          "metadata": {},
          "execution_count": 13
        }
      ]
    },
    {
      "cell_type": "code",
      "source": [
        "from tensorflow.keras.models import Sequential\n",
        "from tensorflow.keras.layers import InputLayer ,Conv2D, MaxPooling2D, Flatten,Dense"
      ],
      "metadata": {
        "id": "rAiUtmQ4sCFB"
      },
      "execution_count": 14,
      "outputs": []
    },
    {
      "cell_type": "code",
      "source": [
        "model = Sequential()\n",
        "model.add(InputLayer(input_shape=(28,28,1)))\n",
        "model.add(Conv2D(filters=10,kernel_size=3,strides=(1,1),padding='valid',activation='relu'))\n",
        "model.add(MaxPooling2D(pool_size=(2,2)))\n",
        "model.add(Conv2D(filters=10,kernel_size=3,strides=(1,1),padding='valid',activation='relu'))\n",
        "model.add(MaxPooling2D(pool_size=(2,2)))\n",
        "model.add(Conv2D(filters=10,kernel_size=3,strides=(1,1),padding='valid',activation='relu'))\n",
        "model.add(MaxPooling2D(pool_size=(2,2)))\n",
        "model.add(Flatten())\n",
        "model.add(Dense(64,activation='relu'))\n",
        "model.add(Dense(32,activation='relu'))\n",
        "model.add(Dense(10,activation='sigmoid'))"
      ],
      "metadata": {
        "id": "ZRxpGhbQstCv"
      },
      "execution_count": 15,
      "outputs": []
    },
    {
      "cell_type": "code",
      "source": [
        "model.summary()"
      ],
      "metadata": {
        "colab": {
          "base_uri": "https://localhost:8080/"
        },
        "id": "_78-JEDHxDkx",
        "outputId": "fae76131-2130-43cb-ee62-9b22637d7125"
      },
      "execution_count": 16,
      "outputs": [
        {
          "output_type": "stream",
          "name": "stdout",
          "text": [
            "Model: \"sequential\"\n",
            "_________________________________________________________________\n",
            " Layer (type)                Output Shape              Param #   \n",
            "=================================================================\n",
            " conv2d (Conv2D)             (None, 26, 26, 10)        100       \n",
            "                                                                 \n",
            " max_pooling2d (MaxPooling2D  (None, 13, 13, 10)       0         \n",
            " )                                                               \n",
            "                                                                 \n",
            " conv2d_1 (Conv2D)           (None, 11, 11, 10)        910       \n",
            "                                                                 \n",
            " max_pooling2d_1 (MaxPooling  (None, 5, 5, 10)         0         \n",
            " 2D)                                                             \n",
            "                                                                 \n",
            " conv2d_2 (Conv2D)           (None, 3, 3, 10)          910       \n",
            "                                                                 \n",
            " max_pooling2d_2 (MaxPooling  (None, 1, 1, 10)         0         \n",
            " 2D)                                                             \n",
            "                                                                 \n",
            " flatten (Flatten)           (None, 10)                0         \n",
            "                                                                 \n",
            " dense (Dense)               (None, 64)                704       \n",
            "                                                                 \n",
            " dense_1 (Dense)             (None, 32)                2080      \n",
            "                                                                 \n",
            " dense_2 (Dense)             (None, 10)                330       \n",
            "                                                                 \n",
            "=================================================================\n",
            "Total params: 5,034\n",
            "Trainable params: 5,034\n",
            "Non-trainable params: 0\n",
            "_________________________________________________________________\n"
          ]
        }
      ]
    },
    {
      "cell_type": "code",
      "source": [
        "import tensorflow\n",
        "model.compile(optimizer='adam',loss=tensorflow.keras.losses.categorical_crossentropy,metrics=['acc'])\n"
      ],
      "metadata": {
        "id": "cLwE9cJQzbNK"
      },
      "execution_count": 17,
      "outputs": []
    },
    {
      "cell_type": "code",
      "source": [
        "x_train=x_train.reshape(60000,28,28,1)\n",
        "x_test=x_test.reshape(10000,28,28,1)\n",
        "print(x_train.shape)\n",
        "print(x_test.shape)"
      ],
      "metadata": {
        "colab": {
          "base_uri": "https://localhost:8080/"
        },
        "id": "xunCq7FI0J_I",
        "outputId": "d1afd871-c9e6-4379-b0fd-25673df5cf6e"
      },
      "execution_count": 18,
      "outputs": [
        {
          "output_type": "stream",
          "name": "stdout",
          "text": [
            "(60000, 28, 28, 1)\n",
            "(10000, 28, 28, 1)\n"
          ]
        }
      ]
    },
    {
      "cell_type": "code",
      "source": [
        "history=model.fit(x_train,y_train,epochs=30,batch_size=512,validation_data=(x_test,y_test))"
      ],
      "metadata": {
        "colab": {
          "base_uri": "https://localhost:8080/"
        },
        "id": "3oatbe6515DF",
        "outputId": "8cafbd6b-967c-4413-e0ba-1a248e563fcf"
      },
      "execution_count": 19,
      "outputs": [
        {
          "output_type": "stream",
          "name": "stdout",
          "text": [
            "Epoch 1/30\n",
            "118/118 [==============================] - 24s 195ms/step - loss: 1.4358 - acc: 0.5286 - val_loss: 0.8972 - val_acc: 0.6737\n",
            "Epoch 2/30\n",
            "118/118 [==============================] - 20s 166ms/step - loss: 0.8133 - acc: 0.7031 - val_loss: 0.7722 - val_acc: 0.7209\n",
            "Epoch 3/30\n",
            "118/118 [==============================] - 20s 168ms/step - loss: 0.7163 - acc: 0.7369 - val_loss: 0.7148 - val_acc: 0.7372\n",
            "Epoch 4/30\n",
            "118/118 [==============================] - 20s 167ms/step - loss: 0.6660 - acc: 0.7524 - val_loss: 0.6760 - val_acc: 0.7508\n",
            "Epoch 5/30\n",
            "118/118 [==============================] - 20s 166ms/step - loss: 0.6322 - acc: 0.7657 - val_loss: 0.6516 - val_acc: 0.7633\n",
            "Epoch 6/30\n",
            "118/118 [==============================] - 20s 169ms/step - loss: 0.6119 - acc: 0.7743 - val_loss: 0.6287 - val_acc: 0.7707\n",
            "Epoch 7/30\n",
            "118/118 [==============================] - 20s 168ms/step - loss: 0.5930 - acc: 0.7822 - val_loss: 0.6153 - val_acc: 0.7741\n",
            "Epoch 8/30\n",
            "118/118 [==============================] - 20s 167ms/step - loss: 0.5789 - acc: 0.7868 - val_loss: 0.6121 - val_acc: 0.7762\n",
            "Epoch 9/30\n",
            "118/118 [==============================] - 20s 169ms/step - loss: 0.5682 - acc: 0.7913 - val_loss: 0.5951 - val_acc: 0.7827\n",
            "Epoch 10/30\n",
            "118/118 [==============================] - 20s 168ms/step - loss: 0.5587 - acc: 0.7954 - val_loss: 0.5764 - val_acc: 0.7874\n",
            "Epoch 11/30\n",
            "118/118 [==============================] - 20s 167ms/step - loss: 0.5471 - acc: 0.7988 - val_loss: 0.5694 - val_acc: 0.7915\n",
            "Epoch 12/30\n",
            "118/118 [==============================] - 20s 169ms/step - loss: 0.5381 - acc: 0.8019 - val_loss: 0.5734 - val_acc: 0.7914\n",
            "Epoch 13/30\n",
            "118/118 [==============================] - 20s 168ms/step - loss: 0.5290 - acc: 0.8059 - val_loss: 0.5472 - val_acc: 0.7988\n",
            "Epoch 14/30\n",
            "118/118 [==============================] - 20s 167ms/step - loss: 0.5198 - acc: 0.8103 - val_loss: 0.5500 - val_acc: 0.8028\n",
            "Epoch 15/30\n",
            "118/118 [==============================] - 20s 169ms/step - loss: 0.5108 - acc: 0.8137 - val_loss: 0.5432 - val_acc: 0.7993\n",
            "Epoch 16/30\n",
            "118/118 [==============================] - 20s 168ms/step - loss: 0.5055 - acc: 0.8164 - val_loss: 0.5436 - val_acc: 0.8040\n",
            "Epoch 17/30\n",
            "118/118 [==============================] - 20s 168ms/step - loss: 0.4991 - acc: 0.8182 - val_loss: 0.5282 - val_acc: 0.8068\n",
            "Epoch 18/30\n",
            "118/118 [==============================] - 20s 169ms/step - loss: 0.4916 - acc: 0.8204 - val_loss: 0.5276 - val_acc: 0.8071\n",
            "Epoch 19/30\n",
            "118/118 [==============================] - 20s 168ms/step - loss: 0.4872 - acc: 0.8228 - val_loss: 0.5168 - val_acc: 0.8119\n",
            "Epoch 20/30\n",
            "118/118 [==============================] - 20s 168ms/step - loss: 0.4800 - acc: 0.8260 - val_loss: 0.5165 - val_acc: 0.8132\n",
            "Epoch 21/30\n",
            "118/118 [==============================] - 20s 169ms/step - loss: 0.4752 - acc: 0.8267 - val_loss: 0.5102 - val_acc: 0.8145\n",
            "Epoch 22/30\n",
            "118/118 [==============================] - 20s 167ms/step - loss: 0.4739 - acc: 0.8272 - val_loss: 0.5078 - val_acc: 0.8147\n",
            "Epoch 23/30\n",
            "118/118 [==============================] - 20s 167ms/step - loss: 0.4658 - acc: 0.8309 - val_loss: 0.5118 - val_acc: 0.8158\n",
            "Epoch 24/30\n",
            "118/118 [==============================] - 20s 169ms/step - loss: 0.4604 - acc: 0.8331 - val_loss: 0.4942 - val_acc: 0.8199\n",
            "Epoch 25/30\n",
            "118/118 [==============================] - 20s 168ms/step - loss: 0.4578 - acc: 0.8336 - val_loss: 0.4917 - val_acc: 0.8198\n",
            "Epoch 26/30\n",
            "118/118 [==============================] - 20s 169ms/step - loss: 0.4561 - acc: 0.8349 - val_loss: 0.5013 - val_acc: 0.8167\n",
            "Epoch 27/30\n",
            "118/118 [==============================] - 20s 171ms/step - loss: 0.4526 - acc: 0.8355 - val_loss: 0.4908 - val_acc: 0.8205\n",
            "Epoch 28/30\n",
            "118/118 [==============================] - 20s 170ms/step - loss: 0.4469 - acc: 0.8375 - val_loss: 0.4855 - val_acc: 0.8242\n",
            "Epoch 29/30\n",
            "118/118 [==============================] - 20s 170ms/step - loss: 0.4447 - acc: 0.8382 - val_loss: 0.4819 - val_acc: 0.8241\n",
            "Epoch 30/30\n",
            "118/118 [==============================] - 20s 171ms/step - loss: 0.4420 - acc: 0.8389 - val_loss: 0.4826 - val_acc: 0.8247\n"
          ]
        }
      ]
    }
  ]
}