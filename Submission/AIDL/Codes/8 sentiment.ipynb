{
  "nbformat": 4,
  "nbformat_minor": 0,
  "metadata": {
    "colab": {
      "provenance": []
    },
    "kernelspec": {
      "name": "python3",
      "display_name": "Python 3"
    },
    "language_info": {
      "name": "python"
    }
  },
  "cells": [
    {
      "cell_type": "code",
      "source": [
        "import tensorflow as tf \n",
        "from tensorflow.keras.preprocessing.text import Tokenizer"
      ],
      "metadata": {
        "id": "LxrZOXwira3Q"
      },
      "execution_count": 4,
      "outputs": []
    },
    {
      "cell_type": "code",
      "source": [
        "from google. colab import drive "
      ],
      "metadata": {
        "id": "QqCMzmxwrGlI"
      },
      "execution_count": 2,
      "outputs": []
    },
    {
      "cell_type": "code",
      "source": [
        "drive.mount (\"/content/drive\")"
      ],
      "metadata": {
        "colab": {
          "base_uri": "https://localhost:8080/"
        },
        "id": "hyYq9Zq0q62d",
        "outputId": "9dd94e40-3c41-4bc8-a8b3-a75bfdf72aa3"
      },
      "execution_count": 34,
      "outputs": [
        {
          "output_type": "stream",
          "name": "stdout",
          "text": [
            "Drive already mounted at /content/drive; to attempt to forcibly remount, call drive.mount(\"/content/drive\", force_remount=True).\n"
          ]
        }
      ]
    },
    {
      "cell_type": "code",
      "source": [
        "x = [\"I am very happy today\", \"No, I do not like the movie\"]\n",
        "y = [1,0]"
      ],
      "metadata": {
        "id": "REIIaw2ArlTi"
      },
      "execution_count": 25,
      "outputs": []
    },
    {
      "cell_type": "code",
      "source": [
        "#Create a tokenizer, configured to only take into account the 20 most common words\n",
        "tokenizer = Tokenizer (num_words=20)"
      ],
      "metadata": {
        "id": "TRMdl_gvrxV2"
      },
      "execution_count": 26,
      "outputs": []
    },
    {
      "cell_type": "code",
      "source": [
        "#Build the word index \n",
        "tokenizer.fit_on_texts(x)"
      ],
      "metadata": {
        "id": "Dla4DHpEr3QO"
      },
      "execution_count": 27,
      "outputs": []
    },
    {
      "cell_type": "code",
      "source": [
        "#Turns strings into lists of integer indices\n",
        "sequences = tokenizer. texts_to_sequences(x)"
      ],
      "metadata": {
        "id": "d1jCVxn3sBGF"
      },
      "execution_count": 28,
      "outputs": []
    },
    {
      "cell_type": "code",
      "source": [
        "# show the vocabulory\n",
        "word_index = tokenizer.word_index\n",
        "print(tokenizer.word_index)\n",
        "print('Found % unique tokens.' % len(word_index))"
      ],
      "metadata": {
        "colab": {
          "base_uri": "https://localhost:8080/"
        },
        "id": "exiq8sMqs5pI",
        "outputId": "8dd449a4-3c0f-4fb6-a251-bec08cfc823b"
      },
      "execution_count": 29,
      "outputs": [
        {
          "output_type": "stream",
          "name": "stdout",
          "text": [
            "{'i': 1, 'am': 2, 'very': 3, 'happy': 4, 'today': 5, 'no': 6, 'do': 7, 'not': 8, 'like': 9, 'the': 10, 'movie': 11}\n",
            "Found  11nique tokens.\n"
          ]
        }
      ]
    },
    {
      "cell_type": "code",
      "source": [
        "print(sequences)"
      ],
      "metadata": {
        "colab": {
          "base_uri": "https://localhost:8080/"
        },
        "id": "sIZw7uyKtJzq",
        "outputId": "9f6994ac-0ad8-41b8-e889-fb178072e4cc"
      },
      "execution_count": 30,
      "outputs": [
        {
          "output_type": "stream",
          "name": "stdout",
          "text": [
            "[[1, 2, 3, 4, 5], [6, 1, 7, 8, 9, 10, 11]]\n"
          ]
        }
      ]
    },
    {
      "cell_type": "code",
      "source": [
        "# Identify max length of reviews\n",
        "max_length = 0\n",
        "for review_number in range(len(sequences)): \n",
        "  numberofwords=len(sequences[review_number])\n",
        "  if (numberofwords) > (max_length):\n",
        "    max_length = numberofwords\n",
        "print(max_length)"
      ],
      "metadata": {
        "colab": {
          "base_uri": "https://localhost:8080/"
        },
        "id": "2wYCP7MWtUZN",
        "outputId": "39b844cd-dadb-4e7b-ebd3-2e3ef6b9e175"
      },
      "execution_count": 31,
      "outputs": [
        {
          "output_type": "stream",
          "name": "stdout",
          "text": [
            "7\n"
          ]
        }
      ]
    },
    {
      "cell_type": "code",
      "source": [
        "# Padding the sequence for shorter reviews\n",
        "from tensorflow.keras.preprocessing.sequence import pad_sequences \n",
        "import numpy as np\n",
        "data = pad_sequences(sequences, maxlen=max_length)\n",
        "y = np.asarray(y)\n",
        "print(data)\n",
        "print('Shape of data tensor : ',data.shape)\n",
        "print('Shape of label tensor:',y.shape)\n"
      ],
      "metadata": {
        "colab": {
          "base_uri": "https://localhost:8080/"
        },
        "id": "yU-O4wWUuPEM",
        "outputId": "615c5d34-b04c-4c4f-c3a3-2462ddb206d0"
      },
      "execution_count": 33,
      "outputs": [
        {
          "output_type": "stream",
          "name": "stdout",
          "text": [
            "[[ 0  0  1  2  3  4  5]\n",
            " [ 6  1  7  8  9 10 11]]\n",
            "Shape of data tensor :  (2, 7)\n",
            "Shape of label tensor: (2,)\n"
          ]
        }
      ]
    },
    {
      "cell_type": "code",
      "source": [
        "#Load my word embeddings\n",
        "import gensim\n",
        "wordembeddings = gensim.models.KeyedVectors.load_word2vec_format('drive/My Drive/GoogleNews-vectors-negative300.bin',binary=True)"
      ],
      "metadata": {
        "id": "jR2ZrA6JurFX"
      },
      "execution_count": 36,
      "outputs": []
    },
    {
      "cell_type": "code",
      "source": [
        "#Converting data to matrix of shape (12,300) where 12 is number of words in vocaboulry + 1 and 300 word vector for each word\n",
        "unique_words = len(word_index)\n",
        "total_words = unique_words + 1\n",
        "skipped_words = 0\n",
        "embedding_dim = 300\n",
        "embedding_matrix = np.zeros((total_words, embedding_dim))\n",
        "for word, index in tokenizer.word_index.items():\n",
        "  try:\n",
        "    embedding_vector = wordembeddings[word]\n",
        "  except:\n",
        "    skipped_words = skipped_words+1\n",
        "    pass\n",
        "  if embedding_vector is not None:\n",
        "    embedding_matrix[index] = embedding_vector\n",
        "print(\"Embeddings Matrix shape : \",embedding_matrix.shape)\n"
      ],
      "metadata": {
        "colab": {
          "base_uri": "https://localhost:8080/"
        },
        "id": "B3-t3s6q494F",
        "outputId": "6e78492c-ef8d-4cec-b81f-ab40ac2bca71"
      },
      "execution_count": 41,
      "outputs": [
        {
          "output_type": "stream",
          "name": "stdout",
          "text": [
            "Embeddings Matrix shape :  (12, 300)\n"
          ]
        }
      ]
    },
    {
      "cell_type": "code",
      "source": [
        "embedding_matrix[3]-wordembeddings.wv['very']"
      ],
      "metadata": {
        "colab": {
          "base_uri": "https://localhost:8080/"
        },
        "id": "wuwifvcG55wn",
        "outputId": "463f58f3-6abb-4e49-cfa1-52ffb3219211"
      },
      "execution_count": 42,
      "outputs": [
        {
          "output_type": "stream",
          "name": "stderr",
          "text": [
            "/usr/local/lib/python3.7/dist-packages/ipykernel_launcher.py:1: DeprecationWarning: Call to deprecated `wv` (Attribute will be removed in 4.0.0, use self instead).\n",
            "  \"\"\"Entry point for launching an IPython kernel.\n"
          ]
        },
        {
          "output_type": "execute_result",
          "data": {
            "text/plain": [
              "array([0., 0., 0., 0., 0., 0., 0., 0., 0., 0., 0., 0., 0., 0., 0., 0., 0.,\n",
              "       0., 0., 0., 0., 0., 0., 0., 0., 0., 0., 0., 0., 0., 0., 0., 0., 0.,\n",
              "       0., 0., 0., 0., 0., 0., 0., 0., 0., 0., 0., 0., 0., 0., 0., 0., 0.,\n",
              "       0., 0., 0., 0., 0., 0., 0., 0., 0., 0., 0., 0., 0., 0., 0., 0., 0.,\n",
              "       0., 0., 0., 0., 0., 0., 0., 0., 0., 0., 0., 0., 0., 0., 0., 0., 0.,\n",
              "       0., 0., 0., 0., 0., 0., 0., 0., 0., 0., 0., 0., 0., 0., 0., 0., 0.,\n",
              "       0., 0., 0., 0., 0., 0., 0., 0., 0., 0., 0., 0., 0., 0., 0., 0., 0.,\n",
              "       0., 0., 0., 0., 0., 0., 0., 0., 0., 0., 0., 0., 0., 0., 0., 0., 0.,\n",
              "       0., 0., 0., 0., 0., 0., 0., 0., 0., 0., 0., 0., 0., 0., 0., 0., 0.,\n",
              "       0., 0., 0., 0., 0., 0., 0., 0., 0., 0., 0., 0., 0., 0., 0., 0., 0.,\n",
              "       0., 0., 0., 0., 0., 0., 0., 0., 0., 0., 0., 0., 0., 0., 0., 0., 0.,\n",
              "       0., 0., 0., 0., 0., 0., 0., 0., 0., 0., 0., 0., 0., 0., 0., 0., 0.,\n",
              "       0., 0., 0., 0., 0., 0., 0., 0., 0., 0., 0., 0., 0., 0., 0., 0., 0.,\n",
              "       0., 0., 0., 0., 0., 0., 0., 0., 0., 0., 0., 0., 0., 0., 0., 0., 0.,\n",
              "       0., 0., 0., 0., 0., 0., 0., 0., 0., 0., 0., 0., 0., 0., 0., 0., 0.,\n",
              "       0., 0., 0., 0., 0., 0., 0., 0., 0., 0., 0., 0., 0., 0., 0., 0., 0.,\n",
              "       0., 0., 0., 0., 0., 0., 0., 0., 0., 0., 0., 0., 0., 0., 0., 0., 0.,\n",
              "       0., 0., 0., 0., 0., 0., 0., 0., 0., 0., 0.])"
            ]
          },
          "metadata": {},
          "execution_count": 42
        }
      ]
    },
    {
      "cell_type": "code",
      "source": [
        "from tensorflow.keras.layers import *\n",
        "# create the embedding layer\n",
        "embedding_Layer = Embedding(total_words, embedding_dim, weights=[embedding_matrix], input_length=max_length, trainable=False)"
      ],
      "metadata": {
        "id": "tpU7ouq06mhg"
      },
      "execution_count": 43,
      "outputs": []
    },
    {
      "cell_type": "code",
      "source": [
        "from tensorflow. keras.models import *\n",
        "from tensorflow. keras. layers import *\n",
        "# define model\n",
        "model = Sequential()\n",
        "model.add(embedding_Layer)\n",
        "model.add(SimpleRNN(128, activation='relu', return_sequences= True)) \n",
        "model.add(SimpleRNN(256, activation='relu')) \n",
        "model.add(Dense(1, activation= 'sigmoid'))\n",
        "print(model.summary())"
      ],
      "metadata": {
        "colab": {
          "base_uri": "https://localhost:8080/"
        },
        "id": "1pTu6F4A68v7",
        "outputId": "7900fe31-7fec-4c94-ff53-4d39b8d9dd32"
      },
      "execution_count": 46,
      "outputs": [
        {
          "output_type": "stream",
          "name": "stdout",
          "text": [
            "Model: \"sequential_1\"\n",
            "_________________________________________________________________\n",
            " Layer (type)                Output Shape              Param #   \n",
            "=================================================================\n",
            " embedding (Embedding)       (None, 7, 300)            3600      \n",
            "                                                                 \n",
            " simple_rnn (SimpleRNN)      (None, 7, 128)            54912     \n",
            "                                                                 \n",
            " simple_rnn_1 (SimpleRNN)    (None, 256)               98560     \n",
            "                                                                 \n",
            " dense (Dense)               (None, 1)                 257       \n",
            "                                                                 \n",
            "=================================================================\n",
            "Total params: 157,329\n",
            "Trainable params: 153,729\n",
            "Non-trainable params: 3,600\n",
            "_________________________________________________________________\n",
            "None\n"
          ]
        }
      ]
    },
    {
      "cell_type": "code",
      "source": [
        "from keras.optimizers import *\n",
        "# compile network\n",
        "opt = SGD(lr=0.01, decay=1e-6)\n",
        "model.compile(loss = \"binary_crossentropy\", optimizer = opt, metrics=['accuracy'])\n",
        "#model.compile(loss='binary_crossentropy', optimizer='adam', metrics=['accuracy'])\n",
        "# fit network\n",
        "model.fit(data, y, epochs=10, verbose=1)"
      ],
      "metadata": {
        "colab": {
          "base_uri": "https://localhost:8080/"
        },
        "id": "a2eS4trS7uKd",
        "outputId": "a33f9a17-c2e1-42a6-92d0-09d040b5473a"
      },
      "execution_count": 48,
      "outputs": [
        {
          "output_type": "stream",
          "name": "stderr",
          "text": [
            "/usr/local/lib/python3.7/dist-packages/keras/optimizers/optimizer_v2/gradient_descent.py:108: UserWarning: The `lr` argument is deprecated, use `learning_rate` instead.\n",
            "  super(SGD, self).__init__(name, **kwargs)\n"
          ]
        },
        {
          "output_type": "stream",
          "name": "stdout",
          "text": [
            "Epoch 1/10\n",
            "1/1 [==============================] - 2s 2s/step - loss: 0.7007 - accuracy: 0.5000\n",
            "Epoch 2/10\n",
            "1/1 [==============================] - 0s 17ms/step - loss: 0.6714 - accuracy: 0.5000\n",
            "Epoch 3/10\n",
            "1/1 [==============================] - 0s 16ms/step - loss: 0.6448 - accuracy: 0.5000\n",
            "Epoch 4/10\n",
            "1/1 [==============================] - 0s 15ms/step - loss: 0.6220 - accuracy: 0.5000\n",
            "Epoch 5/10\n",
            "1/1 [==============================] - 0s 16ms/step - loss: 0.6015 - accuracy: 0.5000\n",
            "Epoch 6/10\n",
            "1/1 [==============================] - 0s 17ms/step - loss: 0.5822 - accuracy: 1.0000\n",
            "Epoch 7/10\n",
            "1/1 [==============================] - 0s 20ms/step - loss: 0.5644 - accuracy: 1.0000\n",
            "Epoch 8/10\n",
            "1/1 [==============================] - 0s 16ms/step - loss: 0.5477 - accuracy: 1.0000\n",
            "Epoch 9/10\n",
            "1/1 [==============================] - 0s 15ms/step - loss: 0.5326 - accuracy: 1.0000\n",
            "Epoch 10/10\n",
            "1/1 [==============================] - 0s 19ms/step - loss: 0.5175 - accuracy: 1.0000\n"
          ]
        },
        {
          "output_type": "execute_result",
          "data": {
            "text/plain": [
              "<keras.callbacks.History at 0x7fd5106c5dd0>"
            ]
          },
          "metadata": {},
          "execution_count": 48
        }
      ]
    }
  ]
}